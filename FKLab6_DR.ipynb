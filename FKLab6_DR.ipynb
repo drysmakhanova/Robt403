{
  "nbformat": 4,
  "nbformat_minor": 0,
  "metadata": {
    "kernelspec": {
      "display_name": "Python 3",
      "language": "python",
      "name": "python3"
    },
    "language_info": {
      "codemirror_mode": {
        "name": "ipython",
        "version": 3
      },
      "file_extension": ".py",
      "mimetype": "text/x-python",
      "name": "python",
      "nbconvert_exporter": "python",
      "pygments_lexer": "ipython3",
      "version": "3.7.4"
    },
    "colab": {
      "name": "FKLab6_DR.ipynb",
      "provenance": [],
      "collapsed_sections": [],
      "include_colab_link": true
    }
  },
  "cells": [
    {
      "cell_type": "markdown",
      "metadata": {
        "id": "view-in-github",
        "colab_type": "text"
      },
      "source": [
        "<a href=\"https://colab.research.google.com/github/drysmakhanova/Robt403/blob/main/FKLab6_DR.ipynb\" target=\"_parent\"><img src=\"https://colab.research.google.com/assets/colab-badge.svg\" alt=\"Open In Colab\"/></a>"
      ]
    },
    {
      "cell_type": "code",
      "metadata": {
        "id": "hPNteidiexhz"
      },
      "source": [
        "import numpy as np \n",
        "import keras\n",
        "from keras.models import Sequential\n",
        "from keras.layers import Dense, Flatten, Dropout\n",
        "from tensorflow.keras.optimizers import Adam\n",
        "import tensorflow.keras.optimizers \n",
        "from keras.utils import np_utils \n",
        "from keras import backend as K \n",
        "import pandas as pd\n",
        "from sklearn.model_selection import train_test_split\n",
        "import random\n"
      ],
      "execution_count": 1,
      "outputs": []
    },
    {
      "cell_type": "code",
      "metadata": {
        "id": "pIwidkgxmXPg"
      },
      "source": [
        "data = pd.read_csv(\"dict1.csv\", header = None, names = [\"Angles\", \"XY\"])\n"
      ],
      "execution_count": 3,
      "outputs": []
    },
    {
      "cell_type": "code",
      "metadata": {
        "id": "tq8GuNPBexh3"
      },
      "source": [
        "train = data['Angles'].to_numpy()\n",
        "labels = data['XY'].to_numpy()"
      ],
      "execution_count": 4,
      "outputs": []
    },
    {
      "cell_type": "markdown",
      "metadata": {
        "id": "eRCVUSLfpNeE"
      },
      "source": [
        "Here we use for labels translation and rotation values and keep only X,Y coordinaties and Rotation values."
      ]
    },
    {
      "cell_type": "code",
      "metadata": {
        "id": "O-ICi7llexh3"
      },
      "source": [
        "X = list()\n",
        "Y = list()\n",
        "for i in range(len(train)):\n",
        "    train[i] = train[i].strip('(').strip(')')\n",
        "    result = [float(val) for val in train[i].split(',')]\n",
        "    X.append(result)\n",
        "    labels[i] = labels[i].strip('(array([').strip(']))')\n",
        "    labels[i] = labels[i].replace(' ', '')\n",
        "    labels[i] = labels[i].replace('  ', '')\n",
        "    labels[i] = labels[i].replace(',0.25]),array([0.,0.,', ',')\n",
        "    labels[i] = labels[i].replace(',2.5000e-01]),array([0.,0.,', ',')\n",
        "    labels[i] = labels[i].replace(',0.25]),array([0.e+00,0.e+00,', ',')\n",
        "    result = [float(val) for val in labels[i].split(',')]\n",
        "    result.pop(2)\n",
        "    result[2] = 2*np.arccos(result[2])\n",
        "    result[2] = round(result[2], 4)\n",
        "    Y.append(result)"
      ],
      "execution_count": 5,
      "outputs": []
    },
    {
      "cell_type": "markdown",
      "metadata": {
        "id": "Xwyxd22LpjGx"
      },
      "source": [
        "So X values are 5  joint angles values of the robot and Y are labels: X,Y,Rotation"
      ]
    },
    {
      "cell_type": "markdown",
      "metadata": {
        "id": "LXyondhJqz2s"
      },
      "source": [
        "Shuffling lists and keeping X-Y order"
      ]
    },
    {
      "cell_type": "code",
      "metadata": {
        "id": "LlfvqyiyLwxn"
      },
      "source": [
        "temp = list(zip(X, Y))\n",
        "random.shuffle(temp)\n",
        "X,Y = zip(*temp)"
      ],
      "execution_count": 7,
      "outputs": []
    },
    {
      "cell_type": "code",
      "metadata": {
        "id": "kz7TyId0exh4"
      },
      "source": [
        "X_train, X_test, y_train, y_test = train_test_split(np.asarray(X), np.asarray(Y), test_size=0.25)"
      ],
      "execution_count": 8,
      "outputs": []
    },
    {
      "cell_type": "code",
      "metadata": {
        "colab": {
          "base_uri": "https://localhost:8080/"
        },
        "id": "ZiT9iYgbexh4",
        "outputId": "3e554af2-1223-4007-a1c3-ef2fbd830059"
      },
      "source": [
        "print(np.shape(X_train))\n",
        "print(np.shape(y_train))\n",
        "print(np.shape(X_test))\n",
        "print(np.shape(y_test))"
      ],
      "execution_count": 9,
      "outputs": [
        {
          "output_type": "stream",
          "name": "stdout",
          "text": [
            "(375, 5)\n",
            "(375, 3)\n",
            "(125, 5)\n",
            "(125, 3)\n"
          ]
        }
      ]
    },
    {
      "cell_type": "code",
      "metadata": {
        "id": "L-wI2zK6exh5"
      },
      "source": [
        "def rmse(y_true, y_pred):\n",
        "    return K.sqrt(K.mean(K.square(y_pred - y_true)))\n",
        "\n",
        "model = Sequential()\n",
        "model.add(Dense(32, input_dim =5, activation = 'elu'))\n",
        "model.add(Dense(64, activation = 'elu'))\n",
        "model.add(Dense(128, activation = 'elu'))\n",
        "model.add(Dense(256, activation = 'elu'))\n",
        "model.add(Dense(128, activation = 'elu'))\n",
        "model.add(Dense(64, activation = 'elu'))\n",
        "model.add(Dense(32, activation = 'elu'))\n",
        "model.add(Dense(3, activation='elu'))\n",
        "model.compile(loss=rmse, optimizer=Adam(0.001))"
      ],
      "execution_count": 139,
      "outputs": []
    },
    {
      "cell_type": "code",
      "metadata": {
        "colab": {
          "base_uri": "https://localhost:8080/"
        },
        "id": "eMJD8lNbexh6",
        "outputId": "069bae8b-e6dc-430a-9904-c36636c445c9"
      },
      "source": [
        "model.summary()"
      ],
      "execution_count": 140,
      "outputs": [
        {
          "output_type": "stream",
          "name": "stdout",
          "text": [
            "Model: \"sequential_20\"\n",
            "_________________________________________________________________\n",
            "Layer (type)                 Output Shape              Param #   \n",
            "=================================================================\n",
            "dense_87 (Dense)             (None, 32)                192       \n",
            "_________________________________________________________________\n",
            "dense_88 (Dense)             (None, 64)                2112      \n",
            "_________________________________________________________________\n",
            "dense_89 (Dense)             (None, 128)               8320      \n",
            "_________________________________________________________________\n",
            "dense_90 (Dense)             (None, 256)               33024     \n",
            "_________________________________________________________________\n",
            "dense_91 (Dense)             (None, 128)               32896     \n",
            "_________________________________________________________________\n",
            "dense_92 (Dense)             (None, 64)                8256      \n",
            "_________________________________________________________________\n",
            "dense_93 (Dense)             (None, 32)                2080      \n",
            "_________________________________________________________________\n",
            "dense_94 (Dense)             (None, 3)                 99        \n",
            "=================================================================\n",
            "Total params: 86,979\n",
            "Trainable params: 86,979\n",
            "Non-trainable params: 0\n",
            "_________________________________________________________________\n"
          ]
        }
      ]
    },
    {
      "cell_type": "code",
      "metadata": {
        "colab": {
          "base_uri": "https://localhost:8080/"
        },
        "id": "DmmoDEr_exh7",
        "outputId": "bbd736d1-2cec-46fc-9424-c477a357f056"
      },
      "source": [
        "model.fit(X_train, y_train, epochs = 20)"
      ],
      "execution_count": 141,
      "outputs": [
        {
          "output_type": "stream",
          "name": "stdout",
          "text": [
            "Epoch 1/20\n",
            "12/12 [==============================] - 1s 3ms/step - loss: 1.6254\n",
            "Epoch 2/20\n",
            "12/12 [==============================] - 0s 3ms/step - loss: 0.5946\n",
            "Epoch 3/20\n",
            "12/12 [==============================] - 0s 3ms/step - loss: 0.4001\n",
            "Epoch 4/20\n",
            "12/12 [==============================] - 0s 4ms/step - loss: 0.3004\n",
            "Epoch 5/20\n",
            "12/12 [==============================] - 0s 4ms/step - loss: 0.2671\n",
            "Epoch 6/20\n",
            "12/12 [==============================] - 0s 3ms/step - loss: 0.2546\n",
            "Epoch 7/20\n",
            "12/12 [==============================] - 0s 4ms/step - loss: 0.2483\n",
            "Epoch 8/20\n",
            "12/12 [==============================] - 0s 3ms/step - loss: 0.2430\n",
            "Epoch 9/20\n",
            "12/12 [==============================] - 0s 4ms/step - loss: 0.2463\n",
            "Epoch 10/20\n",
            "12/12 [==============================] - 0s 4ms/step - loss: 0.2499\n",
            "Epoch 11/20\n",
            "12/12 [==============================] - 0s 4ms/step - loss: 0.2494\n",
            "Epoch 12/20\n",
            "12/12 [==============================] - 0s 3ms/step - loss: 0.2508\n",
            "Epoch 13/20\n",
            "12/12 [==============================] - 0s 4ms/step - loss: 0.2420\n",
            "Epoch 14/20\n",
            "12/12 [==============================] - 0s 3ms/step - loss: 0.2377\n",
            "Epoch 15/20\n",
            "12/12 [==============================] - 0s 4ms/step - loss: 0.2377\n",
            "Epoch 16/20\n",
            "12/12 [==============================] - 0s 4ms/step - loss: 0.2363\n",
            "Epoch 17/20\n",
            "12/12 [==============================] - 0s 3ms/step - loss: 0.2381\n",
            "Epoch 18/20\n",
            "12/12 [==============================] - 0s 3ms/step - loss: 0.2363\n",
            "Epoch 19/20\n",
            "12/12 [==============================] - 0s 3ms/step - loss: 0.2352\n",
            "Epoch 20/20\n",
            "12/12 [==============================] - 0s 4ms/step - loss: 0.2398\n"
          ]
        },
        {
          "output_type": "execute_result",
          "data": {
            "text/plain": [
              "<keras.callbacks.History at 0x7fcdba233610>"
            ]
          },
          "metadata": {},
          "execution_count": 141
        }
      ]
    },
    {
      "cell_type": "code",
      "metadata": {
        "colab": {
          "base_uri": "https://localhost:8080/"
        },
        "id": "QzdxcTDdexh7",
        "outputId": "a1a6006d-fe46-4c18-da9c-82f20e691d8b"
      },
      "source": [
        "scores = model.evaluate(X_test, y_test, verbose=0) \n",
        "print(\"RMSE: %.2f\" % (scores))"
      ],
      "execution_count": 142,
      "outputs": [
        {
          "output_type": "stream",
          "name": "stdout",
          "text": [
            "RMSE: 0.23\n"
          ]
        }
      ]
    },
    {
      "cell_type": "code",
      "metadata": {
        "colab": {
          "base_uri": "https://localhost:8080/"
        },
        "id": "M5dC3WoJexh8",
        "outputId": "4c76e04c-f9ca-4523-a471-af2f823eb04c"
      },
      "source": [
        "print(model.predict(X_test[10].reshape(1,5)))\n",
        "print(y_test[10])"
      ],
      "execution_count": 143,
      "outputs": [
        {
          "output_type": "stream",
          "name": "stdout",
          "text": [
            "[[3.0291338 1.6235226 1.1633207]]\n",
            "[3.1107 1.5675 1.0796]\n"
          ]
        }
      ]
    },
    {
      "cell_type": "markdown",
      "metadata": {
        "id": "uZ-Babb02Ndy"
      },
      "source": [
        "Elu and Selu show the best approximation"
      ]
    }
  ]
}