{
  "nbformat": 4,
  "nbformat_minor": 0,
  "metadata": {
    "kernelspec": {
      "display_name": "Python 3",
      "language": "python",
      "name": "python3"
    },
    "language_info": {
      "codemirror_mode": {
        "name": "ipython",
        "version": 3
      },
      "file_extension": ".py",
      "mimetype": "text/x-python",
      "name": "python",
      "nbconvert_exporter": "python",
      "pygments_lexer": "ipython3",
      "version": "3.7.4"
    },
    "colab": {
      "name": "IKLab7_DR.ipynb",
      "provenance": [],
      "collapsed_sections": [],
      "include_colab_link": true
    }
  },
  "cells": [
    {
      "cell_type": "markdown",
      "metadata": {
        "id": "view-in-github",
        "colab_type": "text"
      },
      "source": [
        "<a href=\"https://colab.research.google.com/github/drysmakhanova/Robt403/blob/main/IKLab7_DR.ipynb\" target=\"_parent\"><img src=\"https://colab.research.google.com/assets/colab-badge.svg\" alt=\"Open In Colab\"/></a>"
      ]
    },
    {
      "cell_type": "code",
      "metadata": {
        "id": "hPNteidiexhz"
      },
      "source": [
        "import numpy as np \n",
        "import keras\n",
        "from keras.models import Sequential\n",
        "from keras.layers import Dense, Flatten, Dropout\n",
        "from tensorflow.keras.optimizers import Adam\n",
        "import tensorflow.keras.optimizers \n",
        "from keras.utils import np_utils \n",
        "from keras import backend as K \n",
        "import pandas as pd\n",
        "from sklearn.model_selection import train_test_split\n",
        "import random\n"
      ],
      "execution_count": 137,
      "outputs": []
    },
    {
      "cell_type": "code",
      "metadata": {
        "id": "3gh81jk0UZA-",
        "outputId": "1476ab5c-4b0c-441a-b375-09f44d9c92a3",
        "colab": {
          "base_uri": "https://localhost:8080/"
        }
      },
      "source": [
        "%reset"
      ],
      "execution_count": 136,
      "outputs": [
        {
          "name": "stdout",
          "output_type": "stream",
          "text": [
            "Once deleted, variables cannot be recovered. Proceed (y/[n])? y\n"
          ]
        }
      ]
    },
    {
      "cell_type": "code",
      "metadata": {
        "id": "pIwidkgxmXPg"
      },
      "source": [
        "data = pd.read_csv(\"dict1.csv\", header = None, names = [\"Angles\", \"XY\"])\n"
      ],
      "execution_count": 138,
      "outputs": []
    },
    {
      "cell_type": "code",
      "metadata": {
        "id": "tq8GuNPBexh3"
      },
      "source": [
        "train = data['XY'].to_numpy()\n",
        "labels = data['Angles'].to_numpy()"
      ],
      "execution_count": 139,
      "outputs": []
    },
    {
      "cell_type": "markdown",
      "metadata": {
        "id": "eRCVUSLfpNeE"
      },
      "source": [
        "Here we use for labels translation and rotation values and keep only X,Y coordinaties and Rotation values."
      ]
    },
    {
      "cell_type": "code",
      "metadata": {
        "id": "O-ICi7llexh3"
      },
      "source": [
        "X = list()\n",
        "Y = list()\n",
        "for i in range(len(train)):\n",
        "    train[i] = train[i].strip('(array([').strip(']))')\n",
        "    train[i] = train[i].replace(' ', '')\n",
        "    train[i] = train[i].replace('  ', '')\n",
        "    train[i] = train[i].replace(',0.25]),array([0.,0.,', ',')\n",
        "    train[i] = train[i].replace(',2.5000e-01]),array([0.,0.,', ',')\n",
        "    train[i] = train[i].replace(',0.25]),array([0.e+00,0.e+00,', ',')\n",
        "    result = [float(val) for val in train[i].split(',')]\n",
        "    result.pop()\n",
        "    result.pop()\n",
        "    X.append(result)\n",
        "    labels[i] = labels[i].strip('(').strip(')')\n",
        "    result = [float(val) for val in labels[i].split(',')]\n",
        "    Y.append(result)"
      ],
      "execution_count": 140,
      "outputs": []
    },
    {
      "cell_type": "markdown",
      "metadata": {
        "id": "Xwyxd22LpjGx"
      },
      "source": [
        "So Y values are 5  joint angles values of the robot and X are inputs: X,Y"
      ]
    },
    {
      "cell_type": "markdown",
      "metadata": {
        "id": "LXyondhJqz2s"
      },
      "source": [
        "Shuffling lists and keeping X-Y order"
      ]
    },
    {
      "cell_type": "code",
      "metadata": {
        "colab": {
          "base_uri": "https://localhost:8080/"
        },
        "id": "bY9Y410F180K",
        "outputId": "1b397cfa-da22-41f2-f91b-91c1abcffa9f"
      },
      "source": [
        "type(X[0])"
      ],
      "execution_count": 112,
      "outputs": [
        {
          "output_type": "execute_result",
          "data": {
            "text/plain": [
              "list"
            ]
          },
          "metadata": {},
          "execution_count": 112
        }
      ]
    },
    {
      "cell_type": "code",
      "metadata": {
        "id": "LlfvqyiyLwxn"
      },
      "source": [
        "temp = list(zip(X, Y))\n",
        "random.shuffle(temp)\n",
        "X,Y = zip(*temp)"
      ],
      "execution_count": 141,
      "outputs": []
    },
    {
      "cell_type": "code",
      "metadata": {
        "id": "kz7TyId0exh4"
      },
      "source": [
        "X_train, X_test, y_train, y_test = train_test_split(np.asarray(X), np.asarray(Y), test_size=0.25)"
      ],
      "execution_count": 142,
      "outputs": []
    },
    {
      "cell_type": "code",
      "metadata": {
        "colab": {
          "base_uri": "https://localhost:8080/"
        },
        "id": "ZiT9iYgbexh4",
        "outputId": "0f8c8258-88e8-4b85-ed4d-183d4b2041c5"
      },
      "source": [
        "print(np.shape(X_train))\n",
        "print(np.shape(y_train))\n",
        "print(np.shape(X_test))\n",
        "print(np.shape(y_test))"
      ],
      "execution_count": 143,
      "outputs": [
        {
          "output_type": "stream",
          "name": "stdout",
          "text": [
            "(375, 2)\n",
            "(375, 5)\n",
            "(125, 2)\n",
            "(125, 5)\n"
          ]
        }
      ]
    },
    {
      "cell_type": "code",
      "metadata": {
        "id": "L-wI2zK6exh5"
      },
      "source": [
        "def rmse(y_true, y_pred):\n",
        "    return K.sqrt(K.mean(K.square(y_pred - y_true)))\n",
        "act = 'elu'\n",
        "model = Sequential()\n",
        "model.add(Dense(16, input_dim = 2, activation = act))\n",
        "model.add(Dense(32, activation = act))\n",
        "model.add(Dense(64, activation = act))\n",
        "model.add(Dense(64, activation = act))\n",
        "model.add(Dense(32, activation = act))\n",
        "model.add(Dense(16, activation = act))\n",
        "model.add(Dense(5, activation= act))\n",
        "model.compile(loss=rmse, optimizer=Adam(0.001))"
      ],
      "execution_count": 159,
      "outputs": []
    },
    {
      "cell_type": "code",
      "metadata": {
        "colab": {
          "base_uri": "https://localhost:8080/"
        },
        "id": "eMJD8lNbexh6",
        "outputId": "86b668b4-e6b7-453d-b9a2-8bf81dce1b5b"
      },
      "source": [
        "model.summary()"
      ],
      "execution_count": 154,
      "outputs": [
        {
          "output_type": "stream",
          "name": "stdout",
          "text": [
            "Model: \"sequential_21\"\n",
            "_________________________________________________________________\n",
            " Layer (type)                Output Shape              Param #   \n",
            "=================================================================\n",
            " dense_169 (Dense)           (None, 16)                48        \n",
            "                                                                 \n",
            " dense_170 (Dense)           (None, 32)                544       \n",
            "                                                                 \n",
            " dense_171 (Dense)           (None, 64)                2112      \n",
            "                                                                 \n",
            " dense_172 (Dense)           (None, 64)                4160      \n",
            "                                                                 \n",
            " dense_173 (Dense)           (None, 32)                2080      \n",
            "                                                                 \n",
            " dense_174 (Dense)           (None, 16)                528       \n",
            "                                                                 \n",
            " dense_175 (Dense)           (None, 5)                 85        \n",
            "                                                                 \n",
            "=================================================================\n",
            "Total params: 9,557\n",
            "Trainable params: 9,557\n",
            "Non-trainable params: 0\n",
            "_________________________________________________________________\n"
          ]
        }
      ]
    },
    {
      "cell_type": "code",
      "metadata": {
        "colab": {
          "base_uri": "https://localhost:8080/"
        },
        "id": "DmmoDEr_exh7",
        "outputId": "80cf5172-92fd-4a64-c582-4cd686f58a37"
      },
      "source": [
        "model.fit(X_train, y_train, epochs = 20)"
      ],
      "execution_count": 155,
      "outputs": [
        {
          "output_type": "stream",
          "name": "stdout",
          "text": [
            "Epoch 1/20\n",
            "12/12 [==============================] - 0s 2ms/step - loss: 0.5094\n",
            "Epoch 2/20\n",
            "12/12 [==============================] - 0s 2ms/step - loss: 0.3117\n",
            "Epoch 3/20\n",
            "12/12 [==============================] - 0s 2ms/step - loss: 0.2850\n",
            "Epoch 4/20\n",
            "12/12 [==============================] - 0s 2ms/step - loss: 0.2717\n",
            "Epoch 5/20\n",
            "12/12 [==============================] - 0s 2ms/step - loss: 0.2749\n",
            "Epoch 6/20\n",
            "12/12 [==============================] - 0s 2ms/step - loss: 0.2676\n",
            "Epoch 7/20\n",
            "12/12 [==============================] - 0s 2ms/step - loss: 0.2598\n",
            "Epoch 8/20\n",
            "12/12 [==============================] - 0s 2ms/step - loss: 0.2646\n",
            "Epoch 9/20\n",
            "12/12 [==============================] - 0s 2ms/step - loss: 0.2717\n",
            "Epoch 10/20\n",
            "12/12 [==============================] - 0s 2ms/step - loss: 0.2658\n",
            "Epoch 11/20\n",
            "12/12 [==============================] - 0s 2ms/step - loss: 0.2612\n",
            "Epoch 12/20\n",
            "12/12 [==============================] - 0s 2ms/step - loss: 0.2711\n",
            "Epoch 13/20\n",
            "12/12 [==============================] - 0s 2ms/step - loss: 0.2716\n",
            "Epoch 14/20\n",
            "12/12 [==============================] - 0s 2ms/step - loss: 0.2665\n",
            "Epoch 15/20\n",
            "12/12 [==============================] - 0s 2ms/step - loss: 0.2680\n",
            "Epoch 16/20\n",
            "12/12 [==============================] - 0s 2ms/step - loss: 0.2628\n",
            "Epoch 17/20\n",
            "12/12 [==============================] - 0s 2ms/step - loss: 0.2637\n",
            "Epoch 18/20\n",
            "12/12 [==============================] - 0s 2ms/step - loss: 0.2652\n",
            "Epoch 19/20\n",
            "12/12 [==============================] - 0s 2ms/step - loss: 0.2598\n",
            "Epoch 20/20\n",
            "12/12 [==============================] - 0s 2ms/step - loss: 0.2592\n"
          ]
        },
        {
          "output_type": "execute_result",
          "data": {
            "text/plain": [
              "<keras.callbacks.History at 0x7fc6e1972210>"
            ]
          },
          "metadata": {},
          "execution_count": 155
        }
      ]
    },
    {
      "cell_type": "code",
      "metadata": {
        "colab": {
          "base_uri": "https://localhost:8080/"
        },
        "id": "QzdxcTDdexh7",
        "outputId": "68b3024b-129c-4423-981d-f1d6cde5f4f8"
      },
      "source": [
        "scores = model.evaluate(X_test, y_test, verbose=0) \n",
        "print(\"RMSE: %.2f\" % (scores))"
      ],
      "execution_count": 156,
      "outputs": [
        {
          "output_type": "stream",
          "name": "stdout",
          "text": [
            "RMSE: 0.26\n"
          ]
        }
      ]
    },
    {
      "cell_type": "code",
      "metadata": {
        "colab": {
          "base_uri": "https://localhost:8080/"
        },
        "id": "M5dC3WoJexh8",
        "outputId": "c1b81e36-2a50-4c6d-f021-25434604bbd5"
      },
      "source": [
        "print(model.predict(X_test[15].reshape(1,2)))\n",
        "print(y_test[15])"
      ],
      "execution_count": 157,
      "outputs": [
        {
          "output_type": "stream",
          "name": "stdout",
          "text": [
            "[[-0.00531227 -0.22610939 -0.14534579  0.00699105 -0.16855258]]\n",
            "[-0.39 -0.32 -0.38 -0.48  0.24]\n"
          ]
        }
      ]
    },
    {
      "cell_type": "markdown",
      "metadata": {
        "id": "uZ-Babb02Ndy"
      },
      "source": [
        "Elu, Selu, Tanh show the best approximation"
      ]
    }
  ]
}