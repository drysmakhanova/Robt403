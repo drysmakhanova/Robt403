{
  "nbformat": 4,
  "nbformat_minor": 0,
  "metadata": {
    "kernelspec": {
      "display_name": "Python 3",
      "language": "python",
      "name": "python3"
    },
    "language_info": {
      "codemirror_mode": {
        "name": "ipython",
        "version": 3
      },
      "file_extension": ".py",
      "mimetype": "text/x-python",
      "name": "python",
      "nbconvert_exporter": "python",
      "pygments_lexer": "ipython3",
      "version": "3.7.4"
    },
    "colab": {
      "name": "IKLab7_DR.ipynb",
      "provenance": [],
      "collapsed_sections": [],
      "include_colab_link": true
    }
  },
  "cells": [
    {
      "cell_type": "markdown",
      "metadata": {
        "id": "view-in-github",
        "colab_type": "text"
      },
      "source": [
        "<a href=\"https://colab.research.google.com/github/drysmakhanova/Robt403/blob/main/IKLab7_DR.ipynb\" target=\"_parent\"><img src=\"https://colab.research.google.com/assets/colab-badge.svg\" alt=\"Open In Colab\"/></a>"
      ]
    },
    {
      "cell_type": "code",
      "metadata": {
        "id": "hPNteidiexhz"
      },
      "source": [
        "import numpy as np \n",
        "import keras\n",
        "from keras.models import Sequential\n",
        "from keras.layers import Dense, Flatten, Dropout\n",
        "from tensorflow.keras.optimizers import Adam\n",
        "import tensorflow.keras.optimizers \n",
        "from keras.utils import np_utils \n",
        "from keras import backend as K \n",
        "import pandas as pd\n",
        "from sklearn.model_selection import train_test_split\n",
        "import random\n"
      ],
      "execution_count": null,
      "outputs": []
    },
    {
      "cell_type": "code",
      "metadata": {
        "id": "pIwidkgxmXPg"
      },
      "source": [
        "data = pd.read_csv(\"dict1.csv\", header = None, names = [\"Angles\", \"XY\"])\n"
      ],
      "execution_count": null,
      "outputs": []
    },
    {
      "cell_type": "code",
      "metadata": {
        "id": "tq8GuNPBexh3"
      },
      "source": [
        "train = data['XY'].to_numpy()\n",
        "labels = data['Angles'].to_numpy()"
      ],
      "execution_count": null,
      "outputs": []
    },
    {
      "cell_type": "markdown",
      "metadata": {
        "id": "eRCVUSLfpNeE"
      },
      "source": [
        "Here we use for labels translation and rotation values and keep only X,Y coordinaties and Rotation values."
      ]
    },
    {
      "cell_type": "code",
      "metadata": {
        "id": "O-ICi7llexh3"
      },
      "source": [
        "X = list()\n",
        "Y = list()\n",
        "for i in range(len(train)):\n",
        "    train[i] = train[i].strip('(array([').strip(']))')\n",
        "    train[i] = train[i].replace(' ', '')\n",
        "    train[i] = train[i].replace('  ', '')\n",
        "    train[i] = train[i].replace(',0.25]),array([0.,0.,', ',')\n",
        "    train[i] = train[i].replace(',2.5000e-01]),array([0.,0.,', ',')\n",
        "    train[i] = train[i].replace(',0.25]),array([0.e+00,0.e+00,', ',')\n",
        "    result = [float(val) for val in train[i].split(',')]\n",
        "    result.pop()\n",
        "    result.pop()\n",
        "    X.append(result)\n",
        "    labels[i] = labels[i].strip('(').strip(')')\n",
        "    result = [float(val) for val in labels[i].split(',')]\n",
        "    Y.append(result)"
      ],
      "execution_count": null,
      "outputs": []
    },
    {
      "cell_type": "markdown",
      "metadata": {
        "id": "Xwyxd22LpjGx"
      },
      "source": [
        "So X values are 5  joint angles values of the robot and Y are labels: X,Y,Rotation"
      ]
    },
    {
      "cell_type": "markdown",
      "metadata": {
        "id": "LXyondhJqz2s"
      },
      "source": [
        "Shuffling lists and keeping X-Y order"
      ]
    },
    {
      "cell_type": "code",
      "metadata": {
        "colab": {
          "base_uri": "https://localhost:8080/"
        },
        "id": "bY9Y410F180K",
        "outputId": "84e2b28b-2a69-4acf-a973-4588d44183a8"
      },
      "source": [
        "type(X[0])"
      ],
      "execution_count": null,
      "outputs": [
        {
          "output_type": "execute_result",
          "data": {
            "text/plain": [
              "list"
            ]
          },
          "metadata": {},
          "execution_count": 19
        }
      ]
    },
    {
      "cell_type": "code",
      "metadata": {
        "id": "LlfvqyiyLwxn"
      },
      "source": [
        "temp = list(zip(X, Y))\n",
        "random.shuffle(temp)\n",
        "X,Y = zip(*temp)"
      ],
      "execution_count": null,
      "outputs": []
    },
    {
      "cell_type": "code",
      "metadata": {
        "id": "kz7TyId0exh4"
      },
      "source": [
        "X_train, X_test, y_train, y_test = train_test_split(np.asarray(X), np.asarray(Y), test_size=0.25)"
      ],
      "execution_count": null,
      "outputs": []
    },
    {
      "cell_type": "code",
      "metadata": {
        "colab": {
          "base_uri": "https://localhost:8080/"
        },
        "id": "ZiT9iYgbexh4",
        "outputId": "7c3d055f-8964-4f61-a442-4ea4ceeb7fb1"
      },
      "source": [
        "print(np.shape(X_train))\n",
        "print(np.shape(y_train))\n",
        "print(np.shape(X_test))\n",
        "print(np.shape(y_test))"
      ],
      "execution_count": null,
      "outputs": [
        {
          "output_type": "stream",
          "name": "stdout",
          "text": [
            "(375, 2)\n",
            "(375, 5)\n",
            "(125, 2)\n",
            "(125, 5)\n"
          ]
        }
      ]
    },
    {
      "cell_type": "code",
      "metadata": {
        "id": "L-wI2zK6exh5"
      },
      "source": [
        "def rmse(y_true, y_pred):\n",
        "    return K.sqrt(K.mean(K.square(y_pred - y_true)))\n",
        "\n",
        "model = Sequential()\n",
        "model.add(Dense(32, input_dim = 2, activation = 'elu'))\n",
        "model.add(Dense(64, activation = 'elu'))\n",
        "model.add(Dense(128, activation = 'elu'))\n",
        "model.add(Dense(256, activation = 'elu'))\n",
        "model.add(Dense(128, activation = 'elu'))\n",
        "model.add(Dense(64, activation = 'elu'))\n",
        "model.add(Dense(32, activation = 'elu'))\n",
        "model.add(Dense(5, activation='elu'))\n",
        "model.compile(loss=rmse, optimizer=Adam(0.001))"
      ],
      "execution_count": null,
      "outputs": []
    },
    {
      "cell_type": "code",
      "metadata": {
        "colab": {
          "base_uri": "https://localhost:8080/"
        },
        "id": "eMJD8lNbexh6",
        "outputId": "72996efd-de2c-43aa-d88a-20499fd04cc6"
      },
      "source": [
        "model.summary()"
      ],
      "execution_count": null,
      "outputs": [
        {
          "output_type": "stream",
          "name": "stdout",
          "text": [
            "Model: \"sequential_2\"\n",
            "_________________________________________________________________\n",
            "Layer (type)                 Output Shape              Param #   \n",
            "=================================================================\n",
            "dense_16 (Dense)             (None, 32)                96        \n",
            "_________________________________________________________________\n",
            "dense_17 (Dense)             (None, 64)                2112      \n",
            "_________________________________________________________________\n",
            "dense_18 (Dense)             (None, 128)               8320      \n",
            "_________________________________________________________________\n",
            "dense_19 (Dense)             (None, 256)               33024     \n",
            "_________________________________________________________________\n",
            "dense_20 (Dense)             (None, 128)               32896     \n",
            "_________________________________________________________________\n",
            "dense_21 (Dense)             (None, 64)                8256      \n",
            "_________________________________________________________________\n",
            "dense_22 (Dense)             (None, 32)                2080      \n",
            "_________________________________________________________________\n",
            "dense_23 (Dense)             (None, 5)                 165       \n",
            "=================================================================\n",
            "Total params: 86,949\n",
            "Trainable params: 86,949\n",
            "Non-trainable params: 0\n",
            "_________________________________________________________________\n"
          ]
        }
      ]
    },
    {
      "cell_type": "code",
      "metadata": {
        "colab": {
          "base_uri": "https://localhost:8080/"
        },
        "id": "DmmoDEr_exh7",
        "outputId": "658861e8-dff6-4dfa-e4e6-b10179729a41"
      },
      "source": [
        "model.fit(X_train, y_train, epochs = 20)"
      ],
      "execution_count": null,
      "outputs": [
        {
          "output_type": "stream",
          "name": "stdout",
          "text": [
            "Epoch 1/20\n",
            "12/12 [==============================] - 0s 3ms/step - loss: 0.2566\n",
            "Epoch 2/20\n",
            "12/12 [==============================] - 0s 3ms/step - loss: 0.2579\n",
            "Epoch 3/20\n",
            "12/12 [==============================] - 0s 3ms/step - loss: 0.2566\n",
            "Epoch 4/20\n",
            "12/12 [==============================] - 0s 3ms/step - loss: 0.2559\n",
            "Epoch 5/20\n",
            "12/12 [==============================] - 0s 3ms/step - loss: 0.2580\n",
            "Epoch 6/20\n",
            "12/12 [==============================] - 0s 3ms/step - loss: 0.2579\n",
            "Epoch 7/20\n",
            "12/12 [==============================] - 0s 3ms/step - loss: 0.2576\n",
            "Epoch 8/20\n",
            "12/12 [==============================] - 0s 3ms/step - loss: 0.2587\n",
            "Epoch 9/20\n",
            "12/12 [==============================] - 0s 3ms/step - loss: 0.2555\n",
            "Epoch 10/20\n",
            "12/12 [==============================] - 0s 3ms/step - loss: 0.2552\n",
            "Epoch 11/20\n",
            "12/12 [==============================] - 0s 3ms/step - loss: 0.2564\n",
            "Epoch 12/20\n",
            "12/12 [==============================] - 0s 3ms/step - loss: 0.2575\n",
            "Epoch 13/20\n",
            "12/12 [==============================] - 0s 4ms/step - loss: 0.2568\n",
            "Epoch 14/20\n",
            "12/12 [==============================] - 0s 3ms/step - loss: 0.2561\n",
            "Epoch 15/20\n",
            "12/12 [==============================] - 0s 3ms/step - loss: 0.2569\n",
            "Epoch 16/20\n",
            "12/12 [==============================] - 0s 4ms/step - loss: 0.2556\n",
            "Epoch 17/20\n",
            "12/12 [==============================] - 0s 3ms/step - loss: 0.2552\n",
            "Epoch 18/20\n",
            "12/12 [==============================] - 0s 5ms/step - loss: 0.2556\n",
            "Epoch 19/20\n",
            "12/12 [==============================] - 0s 4ms/step - loss: 0.2570\n",
            "Epoch 20/20\n",
            "12/12 [==============================] - 0s 3ms/step - loss: 0.2573\n"
          ]
        },
        {
          "output_type": "execute_result",
          "data": {
            "text/plain": [
              "<keras.callbacks.History at 0x7f3835f21050>"
            ]
          },
          "metadata": {},
          "execution_count": 44
        }
      ]
    },
    {
      "cell_type": "code",
      "metadata": {
        "colab": {
          "base_uri": "https://localhost:8080/"
        },
        "id": "QzdxcTDdexh7",
        "outputId": "5878997f-a054-4a53-d028-0409f799e535"
      },
      "source": [
        "scores = model.evaluate(X_test, y_test, verbose=0) \n",
        "print(\"RMSE: %.2f\" % (scores))"
      ],
      "execution_count": null,
      "outputs": [
        {
          "output_type": "stream",
          "name": "stdout",
          "text": [
            "RMSE: 0.26\n"
          ]
        }
      ]
    },
    {
      "cell_type": "code",
      "metadata": {
        "colab": {
          "base_uri": "https://localhost:8080/"
        },
        "id": "M5dC3WoJexh8",
        "outputId": "440be2ab-2b87-4dfa-893c-b9ebb19ed2c8"
      },
      "source": [
        "print(model.predict(X_test[10].reshape(1,2)))\n",
        "print(y_test[10])"
      ],
      "execution_count": null,
      "outputs": [
        {
          "output_type": "stream",
          "name": "stdout",
          "text": [
            "[[0.0888394  0.1842444  0.26068982 0.21653081 0.2719487 ]]\n",
            "[ 0.48  0.21  0.44 -0.19  0.19]\n"
          ]
        }
      ]
    },
    {
      "cell_type": "markdown",
      "metadata": {
        "id": "uZ-Babb02Ndy"
      },
      "source": [
        "Elu and Selu show the best approximation"
      ]
    }
  ]
}